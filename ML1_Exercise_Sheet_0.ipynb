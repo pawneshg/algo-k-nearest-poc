{
 "cells": [
  {
   "cell_type": "markdown",
   "metadata": {
    "collapsed": true,
    "pycharm": {
     "is_executing": false
    }
   },
   "source": [
    "# Machine Learning I, Programming Exercise 0\n",
    "\n",
    "The first sheet is aimed at getting you accustomed with the basic tools you need in order to code machine learning applications in Python. We will go through them each at a time and apply them to a machine learning problem in the last part of this exercise.\n",
    "\n",
    "The idea is that a basic skeleton and some glue code for each exercise is already prepared for you, but you are, of course, free to play around with everything and change the code whenever you feel like it.\n",
    "\n",
    "If you can read this, you have probably managed to set up a Python installation with a working Jupyter server. Good Job so far! In case you have never used a Jupyter Notebook before, you might be wondering what it is all about. The goal of a notebook is to keep documentation, code and output in one place, making it a great tool for explaining concepts and research discoveries to other people. Each notebook is made of two types of cells:\n",
    "* **Markdown** cells containing formatted text (like this one)\n",
    "* **Code** cells containing Python code that can be run from the browser. To do so press the run button at the toolbar above the notebook or press `Ctrl`+`Enter` to run the highlighted code cell.\n",
    "\n",
    "Note that global variables and imports from one cell are preserved and available to subsequently executed cells. It is possible to execute the code cells in any arbitrary order, however this notebook is designed to run from top to bottom, since later cells depend on imports and variables from earlier ones. Besides, it is also a good idea to execute the cells one by one and instead of just running the whole notebook at once. That gives you the opportunity to read the code beforehand and perform any modifications that might be needed on your system."
   ]
  },
  {
   "cell_type": "markdown",
   "metadata": {
    "pycharm": {
     "name": "#%% md\n"
    }
   },
   "source": [
    "## 1. Numpy\n",
    "First, we will install the Numpy package designed for numerical computations. Since Python comes with a built-in package manager on most systems this is surprisingly easy: Just change the command in the following cell depending on whether you use `conda` or `pip`."
   ]
  },
  {
   "cell_type": "code",
   "execution_count": 1,
   "metadata": {
    "pycharm": {
     "is_executing": false,
     "name": "#%%\n"
    }
   },
   "outputs": [],
   "source": [
    "import sys\n",
    "\n",
    "# If you have installed your Python environment using conda (which I'd recommend),\n",
    "# the following line should do the job:\n",
    "#!conda install --yes --prefix {sys.prefix} numpy\n",
    "# Or in case you don't use conda comment the previous line and try using pip instead:\n",
    "# !{sys.executable} -m pip install numpy"
   ]
  },
  {
   "cell_type": "code",
   "execution_count": 2,
   "metadata": {
    "pycharm": {
     "name": "#%%\n"
    }
   },
   "outputs": [],
   "source": [
    "import numpy as np"
   ]
  },
  {
   "cell_type": "markdown",
   "metadata": {
    "pycharm": {
     "name": "#%% md\n"
    }
   },
   "source": [
    "After importing the library, we can now start working with the provided routines and data types.\n",
    "\n",
    "### 1.1 Array Creation & Shape\n",
    "The fundamental data structure in Numpy is the multi-dimensional `ndarray`. It behaves much like a high-level version of an array in lower level languages like C and can hold a variety of data types. Once created, neither size nor datatype can be changed and unlike with a python list each element needs to be of the same data type.\n",
    "\n",
    "It is easy to create arrays from lists and other iterable objects in python:"
   ]
  },
  {
   "cell_type": "code",
   "execution_count": 119,
   "metadata": {
    "pycharm": {
     "name": "#%%\n"
    }
   },
   "outputs": [
    {
     "name": "stdout",
     "output_type": "stream",
     "text": [
      "x shape: (8,), dtype int64.\n",
      "y shape: (2, 4), dtype float64.\n",
      "z shape: (12,), dtype <U1.\n"
     ]
    }
   ],
   "source": [
    "x = np.array([1,2,3,4,5,6,7,8])\n",
    "print(f'x shape: {x.shape}, dtype {x.dtype}.')\n",
    "y = np.array([[1,2,3,4], [5.0,6,7,8]])\n",
    "print(f'y shape: {y.shape}, dtype {y.dtype}.')\n",
    "z = np.array(list('Hello World!'))\n",
    "print(f'z shape: {z.shape}, dtype {z.dtype}.')"
   ]
  },
  {
   "cell_type": "markdown",
   "metadata": {
    "pycharm": {
     "name": "#%% md\n"
    }
   },
   "source": [
    "Apart from that, there are also factory methods available to create special arrays:"
   ]
  },
  {
   "cell_type": "code",
   "execution_count": 120,
   "metadata": {
    "pycharm": {
     "name": "#%% \n"
    }
   },
   "outputs": [
    {
     "name": "stdout",
     "output_type": "stream",
     "text": [
      "a shape: (2, 4), dtype float64.\n",
      "b shape: (8,), dtype float64.\n",
      "True\n"
     ]
    }
   ],
   "source": [
    "a = np.zeros((2, 4))  # Arry filled with zeros\n",
    "print(f'a shape: {a.shape}, dtype {a.dtype}.')\n",
    "b = np.random.rand(8)  # Each element is independently drawn from a uniform distribution on the interval [0, 1]\n",
    "print(f'b shape: {b.shape}, dtype {b.dtype}.')\n",
    "c = np.arange(start=1, stop=9)  # Returns an array with elements [start, start+1, ..., stop-1]\n",
    "print(np.all(x == c))"
   ]
  },
  {
   "cell_type": "markdown",
   "metadata": {},
   "source": [
    "While it is not possible to change the *size* of an array once it is created, changing the *shape* is quite easy, as long as the new shape fits the size of the array. Note that such a `reshape` operation does not return a copy of the original array, instead it is just a *view* to the same memory location that can be indexed in a different way."
   ]
  },
  {
   "cell_type": "code",
   "execution_count": 121,
   "metadata": {},
   "outputs": [
    {
     "name": "stdout",
     "output_type": "stream",
     "text": [
      "[[1 2 3 4]\n",
      " [5 6 7 8]]\n",
      "[[1 2]\n",
      " [3 4]\n",
      " [5 6]\n",
      " [7 8]]\n"
     ]
    }
   ],
   "source": [
    "print(x.reshape(2, 4))\n",
    "print(x.reshape(4, -1))  # -1 means that the number in this dimension should be computed automatically"
   ]
  },
  {
   "cell_type": "code",
   "execution_count": 122,
   "metadata": {},
   "outputs": [
    {
     "data": {
      "text/plain": [
       "array([1, 2, 3, 4, 5, 6, 7, 8])"
      ]
     },
     "execution_count": 122,
     "metadata": {},
     "output_type": "execute_result"
    }
   ],
   "source": [
    "x"
   ]
  },
  {
   "cell_type": "code",
   "execution_count": 123,
   "metadata": {},
   "outputs": [
    {
     "data": {
      "text/plain": [
       "array([[1., 2., 3., 4.],\n",
       "       [5., 6., 7., 8.]])"
      ]
     },
     "execution_count": 123,
     "metadata": {},
     "output_type": "execute_result"
    }
   ],
   "source": [
    "y"
   ]
  },
  {
   "cell_type": "markdown",
   "metadata": {},
   "source": [
    "Multiple arrays of matching shape can also be 'stacked' together in a single array. However, this operation creates the resulting array in a new memory location, i.e, a copy needs to be performed. The position of the newly created axis can be controlled by the `axis` keyword. It is also possible to concatenate two arrays along an existing axis."
   ]
  },
  {
   "cell_type": "markdown",
   "metadata": {},
   "source": [
    "## #Todo"
   ]
  },
  {
   "cell_type": "code",
   "execution_count": 124,
   "metadata": {},
   "outputs": [
    {
     "name": "stdout",
     "output_type": "stream",
     "text": [
      "(2, 2, 4)\n",
      "(2, 4, 2)\n",
      "(4, 4)\n"
     ]
    }
   ],
   "source": [
    "print(np.stack([x.reshape(2, 4), y], axis=0).shape)  # Create new axis as the first axis\n",
    "print(np.stack([x.reshape(2, 4), y], axis=2).shape)  # Create new axis as the last axis\n",
    "print(np.concatenate([x.reshape(2, 4), y], axis=0).shape)  # Concatenate along the existing first axis"
   ]
  },
  {
   "cell_type": "code",
   "execution_count": 22,
   "metadata": {},
   "outputs": [
    {
     "name": "stdout",
     "output_type": "stream",
     "text": [
      "[[[1. 2. 3. 4.]\n",
      "  [5. 6. 7. 8.]]\n",
      "\n",
      " [[1. 2. 3. 4.]\n",
      "  [5. 6. 7. 8.]]]\n",
      "[[[1. 1.]\n",
      "  [2. 2.]\n",
      "  [3. 3.]\n",
      "  [4. 4.]]\n",
      "\n",
      " [[5. 5.]\n",
      "  [6. 6.]\n",
      "  [7. 7.]\n",
      "  [8. 8.]]]\n",
      "[[1. 2. 3. 4.]\n",
      " [5. 6. 7. 8.]\n",
      " [1. 2. 3. 4.]\n",
      " [5. 6. 7. 8.]]\n"
     ]
    }
   ],
   "source": [
    "print(np.stack([x.reshape(2, 4), y], axis=0))  # Create new axis as the first axis\n",
    "print(np.stack([x.reshape(2, 4), y], axis=2))  # Create new axis as the last axis\n",
    "print(np.concatenate([x.reshape(2, 4), y], axis=0))  # Concatenate along the existing first axis"
   ]
  },
  {
   "cell_type": "code",
   "execution_count": 33,
   "metadata": {},
   "outputs": [
    {
     "data": {
      "text/plain": [
       "array([[1, 4],\n",
       "       [2, 6],\n",
       "       [3, 4]])"
      ]
     },
     "execution_count": 33,
     "metadata": {},
     "output_type": "execute_result"
    }
   ],
   "source": [
    "a = np.array([1, 2, 3])\n",
    "b = np.array([4, 6, 4])\n",
    "np.stack((a, b), 1)"
   ]
  },
  {
   "cell_type": "code",
   "execution_count": 101,
   "metadata": {},
   "outputs": [
    {
     "data": {
      "text/plain": [
       "array([[list([1, 2, 3]), list([4, 6, 4]), list([8, 9, 10])],\n",
       "       [list([2, 3]), list([4, 5]), list([7, 8])]], dtype=object)"
      ]
     },
     "execution_count": 101,
     "metadata": {},
     "output_type": "execute_result"
    }
   ],
   "source": [
    "a = np.array([[1, 2, 3], [2,3]])\n",
    "b = np.array([[4, 6, 4], [4,5]])\n",
    "c = np.array([[8, 9, 10], [7,8]])\n"
   ]
  },
  {
   "cell_type": "code",
   "execution_count": 9,
   "metadata": {},
   "outputs": [
    {
     "data": {
      "text/plain": [
       "array([1, 2, 3, 4, 5, 6, 7, 8])"
      ]
     },
     "execution_count": 9,
     "metadata": {},
     "output_type": "execute_result"
    }
   ],
   "source": [
    "x"
   ]
  },
  {
   "cell_type": "markdown",
   "metadata": {
    "pycharm": {
     "name": "#%% md\n"
    }
   },
   "source": [
    "### 1.2 Basic Arithmetic Operations\n",
    "Arithmetic operations are usually computed on a per-element basis, that means they are separately applied to each element in the array. Since Numpy overloads most python operators for the `ndarray` class, it is easy to write code that works with scalars as well as arrays:  "
   ]
  },
  {
   "cell_type": "code",
   "execution_count": 24,
   "metadata": {
    "pycharm": {
     "name": "#%%\n"
    }
   },
   "outputs": [
    {
     "name": "stdout",
     "output_type": "stream",
     "text": [
      "5.0\n",
      "[0 1 2 3 4]\n",
      "[1. 1. 1. 1. 1.]\n",
      "[1.         1.41421356 2.23606798 3.16227766 4.12310563]\n"
     ]
    }
   ],
   "source": [
    "def f(a, b):\n",
    "    return np.sqrt(a**2 + b**2)\n",
    "\n",
    "print(f(3, 4))\n",
    "print(np.arange(5))\n",
    "print(np.ones((5,)))\n",
    "print(f(np.arange(5), np.ones((5,))))"
   ]
  },
  {
   "cell_type": "markdown",
   "metadata": {},
   "source": [
    "Aside from arithmetic operations, comparisons are also supported on a per element basis:"
   ]
  },
  {
   "cell_type": "code",
   "execution_count": 25,
   "metadata": {},
   "outputs": [
    {
     "name": "stdout",
     "output_type": "stream",
     "text": [
      "[ True False  True  True  True False]\n",
      "[False False  True False  True  True]\n"
     ]
    }
   ],
   "source": [
    "a = np.array([5, 3, 7, 4, 8, 1])\n",
    "b = np.array([4, 6, 3, 4, 7, 9])\n",
    "print(a >= b)\n",
    "print((a<3) | (a>6))  # Note that the bitwise or operator is used instead of logical or.\n",
    "                      # For Numpy arrays this corresponds to an element-wise or."
   ]
  },
  {
   "cell_type": "markdown",
   "metadata": {
    "pycharm": {
     "name": "#%% md\n"
    }
   },
   "source": [
    "An important concept when it comes to element-wise operations is called *broadcasting*. It allows us to use arrays of different shapes for the same operation in a meaningful way. One special case of that is the use of a scalar and an `ndarray` in the same operation:"
   ]
  },
  {
   "cell_type": "code",
   "execution_count": 28,
   "metadata": {
    "pycharm": {
     "name": "#%%\n"
    }
   },
   "outputs": [
    {
     "name": "stdout",
     "output_type": "stream",
     "text": [
      "[1 2 3 4 5 6 7 8]\n",
      "[ 3  4  5  6  7  8  9 10]\n"
     ]
    }
   ],
   "source": [
    "print(x)\n",
    "print(x + 2)"
   ]
  },
  {
   "cell_type": "markdown",
   "metadata": {
    "pycharm": {
     "name": "#%% md\n"
    }
   },
   "source": [
    "Here the value `2` is 'broadcast' two every element of `x`, making this equivalent to the follwing:"
   ]
  },
  {
   "cell_type": "code",
   "execution_count": 29,
   "metadata": {
    "pycharm": {
     "name": "#%%\n"
    }
   },
   "outputs": [
    {
     "name": "stdout",
     "output_type": "stream",
     "text": [
      "[ 3  4  5  6  7  8  9 10]\n"
     ]
    }
   ],
   "source": [
    "print(x + np.array([2, 2, 2, 2, 2, 2, 2, 2]))"
   ]
  },
  {
   "cell_type": "markdown",
   "metadata": {
    "pycharm": {
     "name": "#%% md\n"
    }
   },
   "source": [
    "The only difference is that no memory is wasted for a second array of the same size as `x`. This concept also carries over to multi-dimensional arrays, as long as they have the same number of elements in all but one axis and one array has only one element in that axis."
   ]
  },
  {
   "cell_type": "markdown",
   "metadata": {},
   "source": [
    "## #Todo"
   ]
  },
  {
   "cell_type": "code",
   "execution_count": 75,
   "metadata": {
    "pycharm": {
     "name": "#%%\n"
    }
   },
   "outputs": [
    {
     "name": "stdout",
     "output_type": "stream",
     "text": [
      "Y [[1. 2. 3. 4.]\n",
      " [5. 6. 7. 8.]] \n",
      "\n",
      "[[5. 5. 5. 5.]\n",
      " [9. 9. 9. 9.]]\n",
      "(12, 13, 6, 4, 5)\n"
     ]
    }
   ],
   "source": [
    "print(f\"Y {y} \\n\")\n",
    "\n",
    "print(y + np.array([[4, 3, 2, 1]]))\n",
    "a = np.random.rand(12, 13, 6, 4, 5)\n",
    "b = np.random.rand(12, 1, 6, 4, 5)\n",
    "print((a - b).shape)"
   ]
  },
  {
   "cell_type": "code",
   "execution_count": 87,
   "metadata": {},
   "outputs": [
    {
     "data": {
      "text/plain": [
       "(2, 4)"
      ]
     },
     "execution_count": 87,
     "metadata": {},
     "output_type": "execute_result"
    }
   ],
   "source": [
    "y.shape"
   ]
  },
  {
   "cell_type": "code",
   "execution_count": 77,
   "metadata": {},
   "outputs": [
    {
     "name": "stdout",
     "output_type": "stream",
     "text": [
      "[[ 4.  6.  6.  4.]\n",
      " [20. 18. 14.  8.]]\n"
     ]
    }
   ],
   "source": [
    "print(y * np.array([4, 3, 2, 1]))"
   ]
  },
  {
   "cell_type": "code",
   "execution_count": 78,
   "metadata": {},
   "outputs": [
    {
     "name": "stdout",
     "output_type": "stream",
     "text": [
      "[[ 0. -1. -2. -3.]\n",
      " [-4. -5. -6. -7.]]\n"
     ]
    }
   ],
   "source": [
    "print(np.array([1, 1,1,1]- y))"
   ]
  },
  {
   "cell_type": "markdown",
   "metadata": {
    "pycharm": {
     "name": "#%% md\n"
    }
   },
   "source": [
    "Apart from the element-wise operations there also exist reduction functions that aggregate one or several axes of an array. Most common operations are supported:"
   ]
  },
  {
   "cell_type": "code",
   "execution_count": 92,
   "metadata": {
    "pycharm": {
     "name": "#%%\n"
    },
    "scrolled": true
   },
   "outputs": [
    {
     "name": "stdout",
     "output_type": "stream",
     "text": [
      "36.0\n",
      "0.0\n",
      "[[1. 2. 3. 4.]\n",
      " [5. 6. 7. 8.]]\n",
      "[2.5 6.5]\n"
     ]
    }
   ],
   "source": [
    "print(np.sum(y))\n",
    "print(np.max(x))\n",
    "print(y)\n",
    "print(np.mean(y, axis=))\n",
    "#print(np.prod(y, axis=1, keepdims=True))  #todo"
   ]
  },
  {
   "cell_type": "markdown",
   "metadata": {
    "pycharm": {
     "name": "#%% md\n"
    }
   },
   "source": [
    "### 1.3 Array Indexing\n",
    "Elements within an array can be accessed by using square brackets, just like in normal python lists. In multi-dimensional arrays, one index for each dimension can be specified. Negative indices are counted backwards from the last element"
   ]
  },
  {
   "cell_type": "code",
   "execution_count": 37,
   "metadata": {
    "pycharm": {
     "name": "#%%\n"
    }
   },
   "outputs": [
    {
     "name": "stdout",
     "output_type": "stream",
     "text": [
      "[1 2 3 4 5 6 7 8]\n",
      "[[1. 2. 3. 4.]\n",
      " [5. 6. 7. 8.]]\n",
      "4\n",
      "[5. 6. 7. 8.]\n",
      "6.0\n"
     ]
    }
   ],
   "source": [
    "print(x)\n",
    "print(y)\n",
    "\n",
    "print(x[3])\n",
    "print(y[-1])\n",
    "print(y[-1, 1]) # row , column  #todo"
   ]
  },
  {
   "cell_type": "markdown",
   "metadata": {
    "pycharm": {
     "name": "#%% md\n"
    }
   },
   "source": [
    "It is also possible to access *slices* of an array by specifying `start:stop:step` instead of an integer as an index for the dimension that should be sliced:"
   ]
  },
  {
   "cell_type": "code",
   "execution_count": 38,
   "metadata": {
    "pycharm": {
     "name": "#%%\n"
    }
   },
   "outputs": [
    {
     "name": "stdout",
     "output_type": "stream",
     "text": [
      "[2 3 4 5 6]\n",
      "[1 2 3 4 5]\n",
      "[4 5 6 7 8]\n",
      "[8 7 6 5 4 3 2 1]\n",
      "[2. 6.]\n"
     ]
    }
   ],
   "source": [
    "print(x[1:6])\n",
    "print(x[:5])  # Select first 5 elements\n",
    "print(x[-5:])  # Select last 5 elements\n",
    "print(x[::-1])  # Reverse x\n",
    "print(y[:, 1])  # select 2nd column of y, a single colon means that the whole axis should be selected"
   ]
  },
  {
   "cell_type": "markdown",
   "metadata": {
    "pycharm": {
     "name": "#%% md\n"
    }
   },
   "source": [
    "Furthermore, you can index a Numpy array with another Numpy array. This is called *advanced indexing* and the way it works depends on the type of the index array:\n",
    "* `bool`: Indexing with a boolean array works like a mask: Only those elements where the index is true are selected in the new array. The boolean array must be of the same shape as the array we wish to select from\n",
    "* `int`: The indices are used to select specific elements from the array. One index array per axis is needed."
   ]
  },
  {
   "cell_type": "code",
   "execution_count": 42,
   "metadata": {
    "pycharm": {
     "name": "#%%\n"
    }
   },
   "outputs": [
    {
     "name": "stdout",
     "output_type": "stream",
     "text": [
      "[1 2 3 4 5 6 7 8]\n",
      "[1 2 3 6 7]\n",
      "..\n",
      "[1 2 3 6 7]\n",
      "[1. 3. 4.]\n"
     ]
    }
   ],
   "source": [
    "print(x)  #todo\n",
    "idx1 = np.array([True, True, True, False, False, True, True, False])\n",
    "print(x[idx1])\n",
    "print(\"..\")\n",
    "idx2 = np.array([0, 1, 2, 5, 6])\n",
    "print(x[idx2])\n",
    "idx3 = np.array([0, 2, 3])\n",
    "print(y[0, idx3])"
   ]
  },
  {
   "cell_type": "markdown",
   "metadata": {},
   "source": [
    "### 1.4 Linear Algebra Operations\n",
    "Numpy also supports all basic linear algebra operations such as matrix-matrix multiplication and matrix-vector multiplication. No special dataypes are needed for that, instead Numpy treats 2D arrays as matrices and 1D arrays as vectors:"
   ]
  },
  {
   "cell_type": "code",
   "execution_count": 23,
   "metadata": {},
   "outputs": [
    {
     "name": "stdout",
     "output_type": "stream",
     "text": [
      "A = [[0 1 2]\n",
      " [3 4 5]\n",
      " [6 7 8]]\n",
      "Identity matrix [[1. 0. 0.]\n",
      " [0. 1. 0.]\n",
      " [0. 0. 1.]]\n",
      "b = [0 1 0].\n",
      "\n",
      "[[0. 1. 2.]\n",
      " [3. 4. 5.]\n",
      " [6. 7. 8.]]\n",
      "[1 4 7]\n",
      "1\n"
     ]
    }
   ],
   "source": [
    "A = np.array([[0, 1, 2], [3, 4, 5], [6, 7, 8]])\n",
    "print(f\"A = {A}\")\n",
    "B = np.eye(3)  # Identity matrix\n",
    "print(f\"Identity matrix {B}\")\n",
    "b = np.array([0, 1, 0])\n",
    "print(f\"b = {b}.\\n\")\n",
    "print(np.matmul(A, B)) #todo\n",
    "print(np.matmul(A, b))  # np.matmul supports matrix-matrix and matrix-vector products\n",
    "print(np.dot(b, b))  # inner (scalar) product of two vectors"
   ]
  },
  {
   "cell_type": "markdown",
   "metadata": {
    "pycharm": {
     "name": "#%% md\n"
    }
   },
   "source": [
    "### Ex. 1.5 One-Liners\n",
    "The following exercises can all be solved by just writing one line of code for each, possibly combining several of the concepts mentioned above. It is also possible to solve them with only the functions that have been introduced or used up until this point! And that is exactly what you should do: **Write one line of code using only the given functions!** Well, at least for this exercise in order to become familiar with the 'Numpy way of thinking', otherwise it is usually a good idea to prefer readability over brevity when it comes to code.\n",
    "\n",
    "1. Given a matrix $A = (\\begin{matrix}\\mathbf{a}_1 & \\mathbf{a}_2 & \\ldots & \\mathbf{a}_{20} \\end{matrix}) \\in \\mathbb{R}^{20 \\times 20}$, compute the matrix \n",
    "\\begin{equation*}\n",
    "    A' = \\left(\\begin{matrix}\\frac{\\mathbf{a}_1}{\\lVert \\mathbf{a}_1 \\rVert_2} & \\frac{\\mathbf{a}_2}{\\lVert \\mathbf{a}_2 \\rVert_2} & \\ldots & \\frac{\\mathbf{a}_{20}}{\\lVert \\mathbf{a}_{20} \\rVert_2} \\end{matrix}\\right),\n",
    "\\end{equation*}\n",
    "i.e., divide each column vector by its Euclidean norm."
   ]
  },
  {
   "cell_type": "code",
   "execution_count": 65,
   "metadata": {},
   "outputs": [],
   "source": []
  },
  {
   "cell_type": "code",
   "execution_count": 211,
   "metadata": {
    "pycharm": {
     "name": "#%%\n"
    }
   },
   "outputs": [
    {
     "name": "stdout",
     "output_type": "stream",
     "text": [
      "[[0.04619034 0.18463904 0.44602056 0.09053594 0.14314514 0.26986669\n",
      "  0.40296995 0.15681277 0.34993808 0.32415327 0.09726445 0.20242458\n",
      "  0.22555552 0.06359145 0.19385821 0.38319298 0.17057718 0.02579257\n",
      "  0.21947673 0.02240657]\n",
      " [0.10130382 0.22289407 0.24768635 0.11430028 0.12184775 0.07330579\n",
      "  0.15788722 0.17500661 0.24166195 0.27336435 0.27832413 0.31468451\n",
      "  0.29495064 0.10196738 0.23388442 0.26981644 0.28206356 0.01632944\n",
      "  0.07287375 0.06173179]\n",
      " [0.18448329 0.06000949 0.30355558 0.05253223 0.50062485 0.37772699\n",
      "  0.08718537 0.04408397 0.22820577 0.37534628 0.18215705 0.36477523\n",
      "  0.00298865 0.1683455  0.32720476 0.18428974 0.15241172 0.2362187\n",
      "  0.27322174 0.2772035 ]\n",
      " [0.04620665 0.19259938 0.37206827 0.16131474 0.0962829  0.03461093\n",
      "  0.39749265 0.27316963 0.36236891 0.0809231  0.00478786 0.28959685\n",
      "  0.20282889 0.36516059 0.24237077 0.16711929 0.28199946 0.07308513\n",
      "  0.20797765 0.12201269]\n",
      " [0.26104619 0.19156128 0.07735795 0.18906646 0.11046493 0.3865748\n",
      "  0.12805268 0.3577285  0.25302614 0.08239408 0.30783121 0.22728603\n",
      "  0.37727206 0.19080151 0.33795446 0.12678876 0.05017553 0.17947198\n",
      "  0.09014439 0.21540972]\n",
      " [0.41129593 0.13348488 0.28479323 0.31355094 0.24289643 0.02701051\n",
      "  0.14346365 0.34972851 0.15292304 0.24052975 0.01670577 0.15808837\n",
      "  0.04220576 0.1847341  0.13523628 0.13482618 0.30388415 0.25456246\n",
      "  0.10364117 0.17366795]\n",
      " [0.05895167 0.27235865 0.2951892  0.09438974 0.1974223  0.34917725\n",
      "  0.38202758 0.01131124 0.10768964 0.16301796 0.28002751 0.09509037\n",
      "  0.12068043 0.37023056 0.15713345 0.20841169 0.17572227 0.08599221\n",
      "  0.27551396 0.11001218]\n",
      " [0.26138446 0.15066516 0.02132218 0.25136977 0.3042152  0.34398433\n",
      "  0.05291661 0.14845122 0.1436316  0.35576118 0.13270747 0.15319849\n",
      "  0.37316626 0.20760561 0.2366028  0.29765515 0.27248396 0.35488891\n",
      "  0.22491507 0.2513235 ]\n",
      " [0.20483212 0.32382498 0.14109737 0.26756402 0.29624704 0.02710286\n",
      "  0.10486662 0.14961046 0.01129588 0.15410544 0.32535322 0.05095806\n",
      "  0.10367458 0.34300173 0.32886988 0.24541921 0.0268656  0.00295393\n",
      "  0.14634125 0.03351696]\n",
      " [0.32826754 0.11110625 0.17360551 0.03482408 0.34669784 0.10674555\n",
      "  0.08700678 0.1532991  0.19607883 0.13167041 0.11803587 0.08443968\n",
      "  0.10927524 0.18035007 0.15280539 0.29600656 0.29652725 0.2258806\n",
      "  0.09265006 0.25622495]\n",
      " [0.43579966 0.34397474 0.0479893  0.12600277 0.01707301 0.01402225\n",
      "  0.19288548 0.34548945 0.18909156 0.28116361 0.26601648 0.10014397\n",
      "  0.33541911 0.11877765 0.08432908 0.02008972 0.05033468 0.39978842\n",
      "  0.45183582 0.20489936]\n",
      " [0.28332905 0.27055342 0.29662432 0.34000072 0.01567358 0.08927614\n",
      "  0.20172673 0.09557618 0.16196114 0.25377665 0.20991939 0.24096848\n",
      "  0.01466293 0.30319046 0.3274573  0.11517945 0.12718589 0.26111495\n",
      "  0.30015465 0.29855396]\n",
      " [0.03936236 0.15101959 0.23626998 0.10341101 0.41307362 0.23720434\n",
      "  0.15065926 0.35518801 0.22526318 0.25374968 0.34746231 0.22165821\n",
      "  0.33105899 0.14767999 0.02957546 0.00668395 0.04319952 0.2018709\n",
      "  0.16991818 0.25029493]\n",
      " [0.1267888  0.20555109 0.15009058 0.24055287 0.26417398 0.25349876\n",
      "  0.17557367 0.16567063 0.30544621 0.0374541  0.15468193 0.35484077\n",
      "  0.29027934 0.04846312 0.09316276 0.2511179  0.1013694  0.40404064\n",
      "  0.10658767 0.28300283]\n",
      " [0.24117896 0.13500627 0.05729788 0.31992153 0.03683426 0.24172376\n",
      "  0.39025186 0.34944418 0.24426497 0.00923528 0.31993054 0.31761933\n",
      "  0.07849435 0.03996009 0.21232395 0.23487861 0.19058339 0.16598804\n",
      "  0.06178505 0.10049151]\n",
      " [0.05929435 0.38595424 0.1902764  0.23763422 0.05818073 0.00926136\n",
      "  0.30538281 0.06510655 0.09733824 0.20003325 0.33012866 0.10283565\n",
      "  0.01051426 0.29113553 0.28637248 0.01237507 0.34133189 0.11981005\n",
      "  0.05564911 0.37562147]\n",
      " [0.14009119 0.00941549 0.15960302 0.34966207 0.08114041 0.10220269\n",
      "  0.17253415 0.14071808 0.29325181 0.00905105 0.1075168  0.30149777\n",
      "  0.12785306 0.14298073 0.23556112 0.24524019 0.37367582 0.05058658\n",
      "  0.30118955 0.30343158]\n",
      " [0.25110045 0.36184068 0.0564716  0.34698397 0.09754466 0.23985122\n",
      "  0.02947475 0.07167213 0.20748862 0.02939566 0.09139884 0.24693407\n",
      "  0.24421346 0.0844577  0.170178   0.2735165  0.38218719 0.0844118\n",
      "  0.29872702 0.11577383]\n",
      " [0.24563881 0.15060772 0.15920589 0.22450901 0.01045525 0.09729317\n",
      "  0.18755492 0.26075195 0.04021051 0.10420989 0.03630281 0.11271187\n",
      "  0.31823042 0.33343484 0.24855028 0.24392587 0.06747221 0.17577896\n",
      "  0.36210082 0.39259486]\n",
      " [0.0096163  0.17166042 0.14923063 0.138111   0.17937942 0.33275119\n",
      "  0.00133734 0.22023823 0.26778982 0.39082197 0.27741436 0.07073583\n",
      "  0.10122362 0.26018185 0.0045374  0.27889593 0.16129773 0.37688459\n",
      "  0.0280498  0.02653524]]\n"
     ]
    }
   ],
   "source": [
    "A = np.random.rand(20, 20)\n",
    "\n",
    "\n",
    "# here goes your code\n",
    "print(A*(1/np.sqrt(np.sum(A*A, axis=0))))"
   ]
  },
  {
   "cell_type": "markdown",
   "metadata": {
    "pycharm": {
     "name": "#%% md\n"
    }
   },
   "source": [
    "2. Print the indices of all elements in `arr` that are larger or equal to 32 and smaller than 64."
   ]
  },
  {
   "cell_type": "code",
   "execution_count": null,
   "metadata": {},
   "outputs": [],
   "source": []
  },
  {
   "cell_type": "code",
   "execution_count": 139,
   "metadata": {
    "pycharm": {
     "name": "#%%\n"
    }
   },
   "outputs": [
    {
     "name": "stdout",
     "output_type": "stream",
     "text": [
      "[86 82 14 37 49 24 58 82 92 61]\n"
     ]
    },
    {
     "data": {
      "text/plain": [
       "array([37, 49, 58, 61])"
      ]
     },
     "execution_count": 139,
     "metadata": {},
     "output_type": "execute_result"
    }
   ],
   "source": [
    "arr = np.random.randint(0, 100, size=10)\n",
    "print(arr)\n",
    "# here goes your code\n",
    "arr[(32 <= arr[:]) & (arr[:] <64)]\n"
   ]
  },
  {
   "cell_type": "markdown",
   "metadata": {
    "pycharm": {
     "name": "#%% md\n"
    }
   },
   "source": [
    "3. Given array `arr`, compute a new array of the same length as follows: `arr2[i] = sqrt(arr[i-1]) + arr[i])`, where out of bounds indices should be mapped to the other end of the array, like in a ring buffer."
   ]
  },
  {
   "cell_type": "code",
   "execution_count": 161,
   "metadata": {},
   "outputs": [
    {
     "name": "stdout",
     "output_type": "stream",
     "text": [
      "[75 24 34 28 25 36 10  1 26  9]\n",
      "[ 9 26  1 10 36 25 28 34 24 75]\n"
     ]
    }
   ],
   "source": [
    "arr = np.random.randint(0, 100, size=10)\n",
    "print(arr)\n",
    "# here goes your code  #todo\n",
    "#arr2 = np.sqrt(arr[i-1]+arr[i])\n",
    "print(arr[::-1])"
   ]
  },
  {
   "cell_type": "markdown",
   "metadata": {},
   "source": [
    "\n",
    "\n",
    "\n",
    "\n",
    "\n",
    "\n",
    "\n",
    "\n",
    "\n",
    "4. Given array `arr` compute the 1D max pooling operation with a window size of 3. In other words, partition the array into blocks of 3 elements and only return the maximum element from each block."
   ]
  },
  {
   "cell_type": "code",
   "execution_count": 175,
   "metadata": {},
   "outputs": [
    {
     "name": "stdout",
     "output_type": "stream",
     "text": [
      "[71 23 29 85 11 39  4 93 19 11 72 80 27 33 60 44 81  9 54 38 44 16 61 44\n",
      " 50 68 80 77 91 24]\n"
     ]
    },
    {
     "data": {
      "text/plain": [
       "array([71, 85, 93, 80, 60, 81, 54, 61, 80, 91])"
      ]
     },
     "execution_count": 175,
     "metadata": {},
     "output_type": "execute_result"
    }
   ],
   "source": [
    "arr = np.random.randint(0, 100, size=30)\n",
    "print(arr)\n",
    "# here goes your code\n",
    "np.max(arr.reshape(10, 3), axis=1)"
   ]
  },
  {
   "cell_type": "markdown",
   "metadata": {},
   "source": [
    "5. Assume you are given two sets of vectors: $\\mathcal{S} = \\{\\mathbf{s}_1, \\mathbf{s}_2, \\ldots, \\mathbf{s}_{20}\\}$ and $\\mathcal{T} = \\{\\mathbf{t}_1, \\mathbf{t}_2, \\ldots, \\mathbf{t}_{15}\\}$, where $\\mathbf{s}_i, \\mathbf{t}_j \\in \\mathbb{R}^{10}$ for all $i, j$. Compute the dot product for every possible combination of vectors from $\\mathcal{S}$ and $\\mathcal{T}$, i.e.,\n",
    "\\begin{equation*}\n",
    "    \\langle \\mathbf{s}_i, \\mathbf{t}_j \\rangle \\quad \\text{for all } i \\in \\{1, \\ldots, 20\\}, j \\in \\{1, \\ldots, 15\\}\n",
    "\\end{equation*}"
   ]
  },
  {
   "cell_type": "code",
   "execution_count": 241,
   "metadata": {
    "pycharm": {
     "name": "#%%\n"
    }
   },
   "outputs": [
    {
     "name": "stdout",
     "output_type": "stream",
     "text": [
      "2.871407468203725\n"
     ]
    }
   ],
   "source": [
    "S = [np.random.rand(10) for _ in range(20)]\n",
    "T = [np.random.rand(10) for _ in range(15)]\n",
    "print(np.dot(S[2], T[3]))\n",
    "# here goes your code\n",
    "#print(np.dot(S[:], T[:]))"
   ]
  },
  {
   "cell_type": "code",
   "execution_count": 245,
   "metadata": {},
   "outputs": [],
   "source": [
    "arr = np.random.randint(0, 100, size=400)"
   ]
  },
  {
   "cell_type": "code",
   "execution_count": 246,
   "metadata": {},
   "outputs": [
    {
     "data": {
      "text/plain": [
       "array([[92, 54, 22, 35,  0, 99, 23, 67, 38, 57, 86, 77, 37, 61, 24, 54,\n",
       "        29,  2,  9, 29],\n",
       "       [45, 31,  3, 66, 63, 26, 51, 16, 19, 42, 15, 46, 30, 43, 30,  6,\n",
       "        14, 44, 26, 69],\n",
       "       [16, 65,  1, 78, 41, 71,  2, 86, 22, 71, 83, 91, 23, 52, 61, 64,\n",
       "        54, 47, 15, 14],\n",
       "       [64, 50, 23, 62, 11, 80, 61, 21, 43, 37, 56, 59, 27, 25, 55, 95,\n",
       "        49, 80, 48, 50],\n",
       "       [47, 61, 51, 37, 43, 97, 39, 20,  7, 56, 65, 51, 88,  5, 61, 80,\n",
       "        22,  3, 24, 69],\n",
       "       [53, 76, 92, 81, 23, 93, 52, 12,  6, 58,  3, 72, 98, 96, 84, 84,\n",
       "         8, 39, 64, 60],\n",
       "       [77, 55, 26, 85, 38, 19,  1, 42, 72, 87, 68, 77,  3, 62,  7, 55,\n",
       "        51, 10, 53, 18],\n",
       "       [43,  9, 64, 79, 93, 66, 90, 42, 86, 18, 32, 72, 91,  1, 27, 37,\n",
       "        80, 17, 59,  8],\n",
       "       [68,  0, 54, 89,  5, 95, 58, 18, 52, 73, 21, 12, 94, 99, 66, 69,\n",
       "        25, 55, 48, 39],\n",
       "       [80, 35, 24, 57, 56, 57, 62, 96, 98, 22, 91, 11, 87, 73, 53, 99,\n",
       "        41, 56, 47, 99],\n",
       "       [37, 84, 20, 49, 20, 64, 51, 37, 34, 92, 13, 64, 10, 75, 81,  0,\n",
       "        30, 64, 82, 60],\n",
       "       [61, 71, 20, 61, 49, 11, 75, 49, 56, 24, 79, 84, 33, 68, 98, 94,\n",
       "        27, 91, 17, 49],\n",
       "       [49, 80, 90, 19, 22, 93, 51, 67, 29, 79, 46, 60, 16, 47, 59, 54,\n",
       "         8, 34, 40, 15],\n",
       "       [60, 69, 80,  0, 89, 44, 22, 79, 89, 36, 41, 23, 79, 11, 86, 39,\n",
       "         2, 98, 15, 74],\n",
       "       [71, 72, 52, 44, 45, 51, 51, 91, 60, 32, 45, 17, 49, 58, 92, 42,\n",
       "        93, 54, 21,  0],\n",
       "       [31, 67, 24, 96, 61, 24, 15, 78, 10, 28, 23,  1, 85, 65, 53, 77,\n",
       "        10, 73, 95, 64],\n",
       "       [44, 10, 76, 29, 49, 17, 19, 28, 90, 11, 34, 95, 49, 60, 97, 62,\n",
       "        62,  4, 69, 52],\n",
       "       [58, 20, 70, 84, 64,  9, 35, 72, 57, 56, 40, 55, 76, 30, 79, 14,\n",
       "        43, 56, 57, 53],\n",
       "       [35, 67, 19, 73,  3, 64,  9, 57, 98, 98,  1, 58, 45,  6, 47, 59,\n",
       "        10, 64, 23, 85],\n",
       "       [14, 37, 70, 88, 78, 81, 20, 90, 59, 24, 78, 70, 18, 16, 32, 11,\n",
       "        83, 12, 82, 82]])"
      ]
     },
     "execution_count": 246,
     "metadata": {},
     "output_type": "execute_result"
    }
   ],
   "source": [
    "arr.reshape(20, 20)"
   ]
  },
  {
   "cell_type": "markdown",
   "metadata": {
    "pycharm": {
     "name": "#%% md\n"
    }
   },
   "source": [
    "### Ex. 1.6 The Jacobi Method\n",
    "The Jacobi method is an iterative algorithm to solve a system of linear equations $Ax = b$, where $A \\in \\mathbb{R}^{n \\times n}$ is a diagonally dominant matrix, meaning that\n",
    "\\begin{equation*}\n",
    "    \\lvert A_{ii} \\rvert > \\sum_{j\\neq i} \\lvert A_{ij} \\rvert\n",
    "\\end{equation*}\n",
    "or in words that the absolute value of each diagonal element is larger than the sum of absolute values of the rest of the corresponding row.\n",
    "\n",
    "The algorithm produces a sequence of iterates $x^{(1)}, x^{(2)}, \\ldots$, where the starting point $x^{(0)}$ can be freely chosen. In each iteration, the following update is performed:\n",
    "\\begin{equation*}\n",
    "    x^{(t+1)}_{i} = \\frac{1}{A_{ii}} \\left(b_i - \\sum_{j \\neq i} A_{ij} x^{(t)}_{j} \\right).\n",
    "\\end{equation*}\n",
    "\n",
    "Termination can be ensured by checking whether two subsequent iterates are sufficietly close, i.e., whether $\\lVert x^{(t+1)} - x^{(t)} \\rVert \\leq \\varepsilon$ for some small $\\varepsilon > 0$ or by enforcing a maximum number of iterations.\n",
    "\n",
    "Your tasks are as follows:\n",
    "1. Generate a random but diagonally dominant matrix $A$ and a random vector $b$. Choose $n=20$.\n",
    "2. Implement the Jacobi method. This consists of two parts:\n",
    "   * Check if the given matrix is actually square and diagonally dominant.\n",
    "   * Implement the update step given above. Terminate after 1000 iterations or when the Euclidean distance between two subsequent iterates becomes less than $\\varepsilon = 10^{-8}$. Don't use any additional loops for that!"
   ]
  },
  {
   "cell_type": "code",
   "execution_count": 69,
   "metadata": {
    "pycharm": {
     "name": "#%%\n"
    }
   },
   "outputs": [
    {
     "name": "stdout",
     "output_type": "stream",
     "text": [
      "Solution found after 5 iterations.\n",
      "Ax is [65.00001707 18.00001854 58.00001559 99.00001588 60.00001396 56.00001614\n",
      " 27.00001424 58.00001563 88.00001639 43.00001864 76.00001711 49.00001868\n",
      " 81.00001639 95.00001495  9.00001723  5.00001592 56.0000131  55.00001539\n",
      "  9.00001705 30.00001563]\n",
      "b is [65 18 58 99 60 56 27 58 88 43 76 49 81 95  9  5 56 55  9 30]\n"
     ]
    }
   ],
   "source": [
    "import numpy as np\n",
    "def jacobi(A, b, x_0=None, max_iter=1000, eps=1e-8):\n",
    "    # TODO: Check if A is diagonally dominant and square\n",
    "    #import pdb; pdb.set_trace()\n",
    "    if not all(sum(A*np.identity(n)) >= np.sum(A - A*np.identity(n), axis=1)) and A.shape[0] == A.shape[1]:\n",
    "        print(\"A is not diagonally dominant\")\n",
    "        return \n",
    "    x = np.zeros(n) if x_0 is None else x_0\n",
    "    \n",
    "    for i in range(max_iter):\n",
    "        # TODO: Perform Jacobi iteration\n",
    "        I = np.identity(n)\n",
    "        x_t = (b - np.sum(((A*x)-(A*x)*I), axis=1))/np.sum(A*I, axis=1)\n",
    "        #x_new = (b - np.matmul(A - A*I, x)) / ((A*I) @ np.ones(n))\n",
    "        # TODO: Test convergence\n",
    "        if np.all(np.absolute(x_t - x)<= eps):\n",
    "            break\n",
    "        x = x_t\n",
    "    \n",
    "    if i == max_iter-1:\n",
    "        print('Max. iterations reached!')\n",
    "    else:\n",
    "        print('Solution found after %d iterations.' % i)\n",
    "      \n",
    "    return x\n",
    "\n",
    "n = 20\n",
    "# TODO: Generate random, diagonally dominant matrix\n",
    "A = np.random.randint(0, 100, size=n*n)\n",
    "A = A.reshape(n, n)\n",
    "I = np.identity(n)\n",
    "A = (A - A*I)\n",
    "A = A + n*I*np.sum(A, axis=1) \n",
    "\n",
    "\n",
    "b = np.random.randint(0, 100, size=n)\n",
    "\n",
    "# Run Jacobi method\n",
    "x = jacobi(A, b)\n",
    "\n",
    "# Check if solution is correct\n",
    "Ax = np.matmul(A, x)\n",
    "print(f'Ax is {Ax}')\n",
    "print(f'b is {b}')\n",
    "assert(np.allclose(Ax, b))\n"
   ]
  },
  {
   "cell_type": "markdown",
   "metadata": {
    "pycharm": {
     "name": "#%% md\n"
    }
   },
   "source": [
    "## 2. Matplotlib\n",
    "[Matplotlib](https://matplotlib.org/) is a (data) visualization library for Python. While it is perhaps not the easiest to learn and the API can be quite obscure in some places, it is widely used in academia and therefore worth having a look at. The amount of things that you can realise with the library is almost limitless, so we can only treat the very basics in this exercise. MATLAB users will find that Matplotlib supports MATLABS's native plotting commands almost completely, which is also one of the library's explicit goals.\n",
    "\n",
    "Installing the library is easy with the package manager of your choice:"
   ]
  },
  {
   "cell_type": "code",
   "execution_count": null,
   "metadata": {
    "pycharm": {
     "name": "#%%\n"
    }
   },
   "outputs": [],
   "source": [
    "!conda install --yes --prefix {sys.prefix} matplotlib\n",
    "# !{sys.executable} -m pip install matplotlib"
   ]
  },
  {
   "cell_type": "markdown",
   "metadata": {
    "pycharm": {
     "name": "#%% md\n"
    }
   },
   "source": [
    "There are multiple APIs with which we as a programmer can access the functions of Matplotlib. The easiest to get started with is probably the MATLAB-like API contained in the `matplotlib.pyplot` package. Luckily, Jupyter Notebook and Matplotlib work nicely together, so that you can make your plots show up directly in the notebook instead of a separate window:"
   ]
  },
  {
   "cell_type": "code",
   "execution_count": 4,
   "metadata": {
    "pycharm": {
     "name": "#%%\n"
    }
   },
   "outputs": [],
   "source": [
    "# magic command that enables plots to be shown directly in the notebook\n",
    "%matplotlib inline\n",
    "\n",
    "import matplotlib.pyplot as plt"
   ]
  },
  {
   "cell_type": "markdown",
   "metadata": {
    "pycharm": {
     "name": "#%% md\n"
    }
   },
   "source": [
    "### 2.1 Figures and Plots\n",
    "*Figures* in Matplotlib are similar to a canvas in that they can hold multiple *plots*. Those plots could be visualizations of any kind of data in a multitude of ways (see part 2.2 for a non-exhaustive list). Therefore, the starting point of working with Matplotlib is to create a figure that is now considered \"active\" and all subsequent plotting commands will be applied to it:"
   ]
  },
  {
   "cell_type": "code",
   "execution_count": null,
   "metadata": {
    "pycharm": {
     "name": "#%%\n"
    }
   },
   "outputs": [],
   "source": [
    "x = np.linspace(-5, 5, num=100)  # Create an array with 100 points evenly spaced in the interval (-5, 5)\n",
    "y = 0.75*x**2\n",
    "\n",
    "fig = plt.figure(figsize=(6, 4.5))  # (width, height), given in inches\n",
    "plt.title('A test plot')\n",
    "plt.xlabel(r'$\\mathbf{x}$: Some ind. variable')  # Note that LaTeX-Code is supported\n",
    "plt.ylabel('$y$')\n",
    "plt.plot(x, y, label=r'$0.75 x^2$')\n",
    "plt.plot(x, 0.3*x**3, label=r'$0.3 x^3$')\n",
    "plt.grid(linestyle='dashed')\n",
    "plt.legend()\n",
    "\n",
    "plt.show()\n",
    "plt.close(fig)"
   ]
  },
  {
   "cell_type": "markdown",
   "metadata": {
    "pycharm": {
     "name": "#%% md\n"
    }
   },
   "source": [
    "As mentioned earlier, it is also possible to have multiple plots in one figure. This is accomplished by calling the `subplots` function and using the returned `Axes` objects:"
   ]
  },
  {
   "cell_type": "code",
   "execution_count": 100,
   "metadata": {
    "pycharm": {
     "name": "#%%\n"
    }
   },
   "outputs": [
    {
     "data": {
      "image/png": "[encoded data removed]",
      "text/plain": [
       "<Figure size 576x432 with 4 Axes>"
      ]
     },
     "metadata": {
      "needs_background": "light"
     },
     "output_type": "display_data"
    }
   ],
   "source": [
    "fig, axes = plt.subplots(nrows=2, ncols=2, sharex=False, sharey='row', figsize=(8, 6))\n",
    "fig.suptitle('A second test plot')\n",
    "\n",
    "axes[0, 0].set_title('Top Left')\n",
    "axes[0, 0].plot(x, 5*x-3)\n",
    "\n",
    "axes[0, 1].set_title('Top Right')\n",
    "axes[0, 1].plot(x, 2*x + 1)\n",
    "\n",
    "axes[1, 0].set_title('Bottom Left')\n",
    "axes[1, 0].plot(x, 2**x)\n",
    "axes[1, 0].set_yscale('log')\n",
    "\n",
    "axes[1, 1].set_title('Bottom Right')\n",
    "axes[1, 1].plot(x+1, (x+1)**2)\n",
    "\n",
    "for ax in axes.ravel():\n",
    "    ax.grid(linestyle='dashed')\n",
    "\n",
    "fig.tight_layout()\n",
    "plt.show()\n",
    "plt.close(fig)"
   ]
  },
  {
   "cell_type": "markdown",
   "metadata": {
    "pycharm": {
     "name": "#%% md\n"
    }
   },
   "source": [
    "### 2.2 Plot Types\n",
    "The library offers many types of visualization routines for a variety of data, too many to cover them all in this notebook. The following cell will contain a few select examples examples of what can be done with Matplotlib. If you want to know more, it is always a good idea to have a look at the [documentation](https://matplotlib.org/contents.html)."
   ]
  },
  {
   "cell_type": "code",
   "execution_count": 99,
   "metadata": {
    "pycharm": {
     "name": "#%%\n"
    }
   },
   "outputs": [
    {
     "data": {
      "image/png": "[encoded data removed]",
      "text/plain": [
       "<Figure size 864x648 with 4 Axes>"
      ]
     },
     "metadata": {
      "needs_background": "light"
     },
     "output_type": "display_data"
    }
   ],
   "source": [
    "data1 = np.random.normal(loc=np.array([1, 2]), size=(20, 2))\n",
    "data2 = np.random.normal(loc=np.array([-2, -1]), size=(20, 2))\n",
    "\n",
    "fig, axes = plt.subplots(nrows=2, ncols=2, sharex=False, sharey=False, figsize=(12, 9))\n",
    "\n",
    "axes[0, 0].set_title('Scatter Plot')\n",
    "axes[0, 0].scatter(data1[:, 0], data1[:, 1], label=r'$\\mathcal{N}(1, 1)^T, 1)$')\n",
    "axes[0, 0].scatter(data2[:, 0], data2[:, 1], label=r'$\\mathcal{N}((-1, -1)^T, 1)$', marker='x')\n",
    "axes[0, 0].legend()\n",
    "\n",
    "axes[0, 1].set_title('Line Plot')\n",
    "axes[0, 1].plot(x, 2*x + 1, linestyle='dotted')\n",
    "\n",
    "axes[1, 0].set_title('Histogram')\n",
    "_, bins, _ = axes[1, 0].hist([data1[:, 0], data2[:, 0]], bins=10, edgecolor='k', zorder=3, stacked=True)\n",
    "axes[1, 0].set_xticks(bins)\n",
    "axes[1, 0].legend([r'$\\mathcal{N}(1, 1)$', r'$\\mathcal{N}(-2, 1)$'])\n",
    "\n",
    "axes[1, 1].set_title('Boxplot')\n",
    "axes[1, 1].boxplot([data1[:, 0], data2[:, 0]], zorder=3)\n",
    "axes[1, 1].legend([r'$\\mathcal{N}(1, 1)$', r'$\\mathcal{N}(-2, 1)$'])\n",
    "\n",
    "for ax in axes.ravel():\n",
    "    ax.grid(linestyle='dashed')\n",
    "\n",
    "fig.tight_layout()\n",
    "plt.show()\n",
    "plt.close(fig)"
   ]
  },
  {
   "cell_type": "markdown",
   "metadata": {
    "pycharm": {
     "name": "#%% md\n"
    }
   },
   "source": [
    "### Ex. 2.3 SARS-CoV-2\n",
    "The Severe Acute Respiratory Syndrome Coronavirus-2 (SARS-CoV-2) and the disease caused by it, COVID-19, have had a major impact on the lives of people here in Germany and many more countries throughout the world during the last few weeks or even months. If you are not too tired of hearing and reading about it in the news day in and day out, you'll have the opportuity to play around with some data concerning this global pandemic in this exercise.\n",
    "\n",
    "For that, we will take data from the [ECDC Website](https://www.ecdc.europa.eu/en/publications-data/download-todays-data-geographic-distribution-covid-19-cases-worldwide) and process it locally. The .csv file you can find under \"Download the data in more formats\" contains one row per country and per day, organized in the following fields:\n",
    "* `dateRep`: The date in `DD/MM/YYYY` format (e.g. `12.04.2020`).\n",
    "* `day`, `month` and `year`: The same date again, but in separate fields.\n",
    "* `countriesAndTerritories`: English name of the country. Spaces are replaced by an underscore (e.g. `United_States_of_America`).\n",
    "* `geoId`, `countryterritoryCode`: Two-digit and three-digit country code (e.g. `US` and `USA`)\n",
    "* `cases`: Number of people that were positively tested for the SARS-CoV-2 on that specific day in that specific country (e.g. `28391`).\n",
    "* `deaths`: Number of people that died of COVID-19 (or perhaps other illnesses facilitated by the virus) on that specific day in that specific country (e.g. `\n",
    "1831`).\n",
    "* `popData2018`: The country's number of inhabitants as of 2018 (e.g. `327167434`)\n",
    "\n",
    "The goal of this exercise is to compare the development of total SARS-CoV-2 cases in different countries. Specifically, we would like to plot the total cases at each day, starting from the day where the total cases first reached 100 in the respective country. Hence, your tasks are as follows:\n",
    "1. Download the dataset and extract relevant parts in a format convenient for further processing. Think about which fields you need for the plot and which countries you want to compare. The code skeleton already contains a few lines that download the data in `.csv` format. If you prefer to use another data format offered by the ECDC Website, feel free to do so.\n",
    "2. Compute the total (or cumulative) number for each day in the data that you extracted in the first step.\n",
    "3. Filter out all days were the number of total cases was less than 100.\n",
    "4. Create a plot with \"Number of days since total cases first reached 100\" as the x-axis and \"Total SARS-CoV-2 cases\" as the y-axis. Use a logarithmic scale for the y-axis and plot one curve for each country that you chose. Also include, as a reference, a hypothetical curve, where the number of cases starts with 100 and doubles every 5 days."
   ]
  },
  {
   "cell_type": "code",
   "execution_count": 91,
   "metadata": {},
   "outputs": [],
   "source": [
    "x_axis_label = np.array([])"
   ]
  },
  {
   "cell_type": "code",
   "execution_count": 98,
   "metadata": {
    "pycharm": {
     "name": "#%%\n"
    }
   },
   "outputs": [
    {
     "name": "stdout",
     "output_type": "stream",
     "text": [
      "['23/04/2020' '22/04/2020' '21/04/2020' '20/04/2020' '19/04/2020'\n",
      " '18/04/2020' '17/04/2020' '16/04/2020' '15/04/2020' '14/04/2020'\n",
      " '13/04/2020' '12/04/2020' '11/04/2020' '10/04/2020' '09/04/2020'\n",
      " '08/04/2020' '07/04/2020' '06/04/2020' '05/04/2020' '04/04/2020'\n",
      " '03/04/2020' '02/04/2020' '01/04/2020' '31/03/2020' '30/03/2020'\n",
      " '29/03/2020' '28/03/2020' '27/03/2020' '26/03/2020' '25/03/2020'\n",
      " '24/03/2020' '23/03/2020' '22/03/2020' '21/03/2020' '20/03/2020'\n",
      " '19/03/2020' '18/03/2020' '17/03/2020' '16/03/2020' '15/03/2020'\n",
      " '14/03/2020' '13/03/2020' '12/03/2020' '11/03/2020' '10/03/2020'\n",
      " '09/03/2020' '08/03/2020' '07/03/2020' '06/03/2020' '05/03/2020'\n",
      " '04/03/2020' '03/03/2020' '02/03/2020' '01/03/2020' '29/02/2020'\n",
      " '28/02/2020' '27/02/2020' '26/02/2020' '25/02/2020' '24/02/2020'\n",
      " '23/02/2020' '22/02/2020' '21/02/2020' '20/02/2020' '19/02/2020'\n",
      " '18/02/2020' '17/02/2020' '16/02/2020' '15/02/2020' '14/02/2020'\n",
      " '13/02/2020' '12/02/2020' '11/02/2020' '10/02/2020' '09/02/2020'\n",
      " '08/02/2020' '07/02/2020' '06/02/2020' '05/02/2020' '04/02/2020'\n",
      " '03/02/2020' '02/02/2020' '01/02/2020' '31/01/2020' '30/01/2020'\n",
      " '29/01/2020' '28/01/2020' '27/01/2020' '26/01/2020' '25/01/2020'\n",
      " '24/01/2020' '23/01/2020' '22/01/2020' '21/01/2020' '20/01/2020'\n",
      " '19/01/2020' '18/01/2020' '17/01/2020' '16/01/2020' '15/01/2020'\n",
      " '14/01/2020' '13/01/2020' '12/01/2020' '11/01/2020' '10/01/2020'\n",
      " '09/01/2020' '08/01/2020' '07/01/2020' '06/01/2020' '05/01/2020'\n",
      " '04/01/2020' '03/01/2020' '02/01/2020' '01/01/2020' '31/12/2019'\n",
      " '23/04/2020' '22/04/2020' '21/04/2020' '20/04/2020' '19/04/2020'\n",
      " '18/04/2020' '17/04/2020' '16/04/2020' '15/04/2020' '14/04/2020'\n",
      " '13/04/2020' '12/04/2020' '11/04/2020' '10/04/2020' '09/04/2020'\n",
      " '08/04/2020' '07/04/2020' '06/04/2020' '05/04/2020' '04/04/2020'\n",
      " '03/04/2020' '02/04/2020' '01/04/2020' '31/03/2020' '30/03/2020'\n",
      " '29/03/2020' '28/03/2020' '27/03/2020' '26/03/2020' '25/03/2020'\n",
      " '24/03/2020' '23/03/2020' '22/03/2020' '21/03/2020' '20/03/2020'\n",
      " '19/03/2020' '18/03/2020' '17/03/2020' '16/03/2020' '15/03/2020'\n",
      " '14/03/2020' '13/03/2020' '12/03/2020' '11/03/2020' '10/03/2020'\n",
      " '09/03/2020' '08/03/2020' '07/03/2020' '06/03/2020' '05/03/2020'\n",
      " '04/03/2020' '03/03/2020' '02/03/2020' '01/03/2020' '29/02/2020'\n",
      " '28/02/2020' '27/02/2020' '26/02/2020' '25/02/2020' '24/02/2020'\n",
      " '23/02/2020' '22/02/2020' '21/02/2020' '20/02/2020' '19/02/2020'\n",
      " '18/02/2020' '17/02/2020' '16/02/2020' '15/02/2020' '14/02/2020'\n",
      " '13/02/2020' '12/02/2020' '11/02/2020' '10/02/2020' '09/02/2020'\n",
      " '08/02/2020' '07/02/2020' '06/02/2020' '05/02/2020' '04/02/2020'\n",
      " '03/02/2020' '02/02/2020' '01/02/2020' '31/01/2020' '30/01/2020'\n",
      " '29/01/2020' '28/01/2020' '27/01/2020' '26/01/2020' '25/01/2020'\n",
      " '24/01/2020' '23/01/2020' '22/01/2020' '21/01/2020' '20/01/2020'\n",
      " '19/01/2020' '18/01/2020' '17/01/2020' '16/01/2020' '15/01/2020'\n",
      " '14/01/2020' '13/01/2020' '12/01/2020' '11/01/2020' '10/01/2020'\n",
      " '09/01/2020' '08/01/2020' '07/01/2020' '06/01/2020' '05/01/2020'\n",
      " '04/01/2020' '03/01/2020' '02/01/2020' '01/01/2020' '31/12/2019'\n",
      " '23/04/2020' '22/04/2020' '21/04/2020' '20/04/2020' '19/04/2020'\n",
      " '18/04/2020' '17/04/2020' '16/04/2020' '15/04/2020' '14/04/2020'\n",
      " '13/04/2020' '12/04/2020' '11/04/2020' '10/04/2020' '09/04/2020'\n",
      " '08/04/2020' '07/04/2020' '06/04/2020' '05/04/2020' '04/04/2020'\n",
      " '03/04/2020' '02/04/2020' '01/04/2020' '31/03/2020' '30/03/2020'\n",
      " '29/03/2020' '28/03/2020' '27/03/2020' '26/03/2020' '25/03/2020'\n",
      " '24/03/2020' '23/03/2020' '22/03/2020' '21/03/2020' '20/03/2020'\n",
      " '19/03/2020' '18/03/2020' '17/03/2020' '16/03/2020' '15/03/2020'\n",
      " '14/03/2020' '13/03/2020' '12/03/2020' '11/03/2020' '10/03/2020'\n",
      " '09/03/2020' '08/03/2020' '07/03/2020' '06/03/2020' '05/03/2020'\n",
      " '04/03/2020' '03/03/2020' '02/03/2020' '01/03/2020' '29/02/2020'\n",
      " '28/02/2020' '27/02/2020' '26/02/2020' '25/02/2020' '24/02/2020'\n",
      " '23/02/2020' '22/02/2020' '21/02/2020' '20/02/2020' '19/02/2020'\n",
      " '18/02/2020' '17/02/2020' '16/02/2020' '15/02/2020' '14/02/2020'\n",
      " '13/02/2020' '12/02/2020' '11/02/2020' '10/02/2020' '09/02/2020'\n",
      " '08/02/2020' '07/02/2020' '06/02/2020' '05/02/2020' '04/02/2020'\n",
      " '03/02/2020' '02/02/2020' '01/02/2020' '31/01/2020' '30/01/2020'\n",
      " '29/01/2020' '28/01/2020' '27/01/2020' '26/01/2020' '25/01/2020'\n",
      " '24/01/2020' '23/01/2020' '22/01/2020' '21/01/2020' '20/01/2020'\n",
      " '19/01/2020' '18/01/2020' '17/01/2020' '16/01/2020' '15/01/2020'\n",
      " '14/01/2020' '13/01/2020' '12/01/2020' '11/01/2020' '10/01/2020'\n",
      " '09/01/2020' '08/01/2020' '07/01/2020' '06/01/2020' '05/01/2020'\n",
      " '04/01/2020' '03/01/2020' '02/01/2020' '01/01/2020' '31/12/2019']\n",
      "[   12    15    32    14    18    31   352    50    49    94   112    93\n",
      "    79    55    86    86    56    67    48    62    70   100    54    84\n",
      "    98   113   119    94   102    78    69   138    65    52    99    44\n",
      "    23    43    25    22    19    22    24    29    20    45    46   101\n",
      "   170   117   119   127   205   574   428   329   439   410   515   218\n",
      "   647   826   891   394  1750  1890  2052  2007  2538  4156 15141  2028\n",
      "  2490  2974  2607  3418  3160  3727  3872  3237  2812  2590  2095  1980\n",
      "  1740  1466  1753   787   665   441   259    97   140   151    19   136\n",
      "    17     4     0     0     0     0     0     0     0     0     0     0\n",
      "     0    15     0    17     0     0    27  2352  2237  1785  1775  2458\n",
      "  3609  3380  2866  2486  2082  2537  2821  4133  5323  4974  4003  3834\n",
      "  3677  5936  6082  6174  6156  5453  4615  4751  3965  6294  5780  4954\n",
      "  2342  4438  3311  3276  4049  5940  1042  1144  1174  1043   733   693\n",
      "   802   271   157   237    55   163   284   138    66    39    28    18\n",
      "    54    10    26     4     2     0     0     0     0     0     0     0\n",
      "     0     0     0     0     0     0     2     0     0     0     1     1\n",
      "     0     0     2     1     1     2     1     0     3     1     0     0\n",
      "     0     0     0     0     0     0     0     0     0     0     0     0\n",
      "     0     0     0     0     0     0     0     0     0     0     0     0\n",
      "     0     0 17588 37289 28065 24601 32922 30833 31667 30148 26922 25023\n",
      " 27620 28391 35527 33901 33323 30613 30561 25398 34272 32425 28819 27103\n",
      " 24998 21595 18360 19979 18695 16797 13963  8789 11236  8459  7123  5374\n",
      "  4835  2988  1766   887   823   777   511   351   287   271   200   121\n",
      "    95   105    74    34    22    14    20     3     6     1     6     0\n",
      "    18     0     0    19     1     0     0     0     0     0     0     1\n",
      "     1     0     1     0     0     0     0     1     0     0     3     1\n",
      "     1     1     0     0     0     3     0     1     0     0     0     1\n",
      "     0     0     0     0     0     0     0     0     0     0     0     0\n",
      "     0     0     0     0     0     0     0     0     0]\n",
      "[False False False False False False  True False False False  True False\n",
      " False False False False False False False False False False False False\n",
      " False  True  True False  True False False  True False False False False\n",
      " False False False False False False False False False False False  True\n",
      "  True  True  True  True  True  True  True  True  True  True  True  True\n",
      "  True  True  True  True  True  True  True  True  True  True  True  True\n",
      "  True  True  True  True  True  True  True  True  True  True  True  True\n",
      "  True  True  True  True  True  True  True False  True  True False  True\n",
      " False False False False False False False False False False False False\n",
      " False False False False False False False  True  True  True  True  True\n",
      "  True  True  True  True  True  True  True  True  True  True  True  True\n",
      "  True  True  True  True  True  True  True  True  True  True  True  True\n",
      "  True  True  True  True  True  True  True  True  True  True  True  True\n",
      "  True  True  True  True False  True  True  True False False False False\n",
      " False False False False False False False False False False False False\n",
      " False False False False False False False False False False False False\n",
      " False False False False False False False False False False False False\n",
      " False False False False False False False False False False False False\n",
      " False False False False False False False False False False False False\n",
      " False False  True  True  True  True  True  True  True  True  True  True\n",
      "  True  True  True  True  True  True  True  True  True  True  True  True\n",
      "  True  True  True  True  True  True  True  True  True  True  True  True\n",
      "  True  True  True  True  True  True  True  True  True  True  True  True\n",
      " False  True False False False False False False False False False False\n",
      " False False False False False False False False False False False False\n",
      " False False False False False False False False False False False False\n",
      " False False False False False False False False False False False False\n",
      " False False False False False False False False False False False False\n",
      " False False False False False False False False False]\n"
     ]
    }
   ],
   "source": [
    "from urllib.request import urlopen\n",
    "from datetime import date\n",
    "import csv\n",
    "from collections import defaultdict\n",
    "\n",
    "def extract_data(reader, countries):\n",
    "    # TODO: extract relevant data\n",
    "    relevant_data = []\n",
    "    for row in reader:\n",
    "        country = row['countriesAndTerritories']\n",
    "        if country in countries:\n",
    "            relevant_data.append(row)\n",
    "\n",
    "    return relevant_data\n",
    "\n",
    "# Load Covid-19 data\n",
    "countries = ['Germany', 'United_States_of_America', 'China']\n",
    "with urlopen('http://opendata.ecdc.europa.eu/covid19/casedistribution/csv') as f:\n",
    "    lines = [line.decode('utf-8') for line in f.readlines()]\n",
    "    \n",
    "reader = csv.DictReader(lines)\n",
    "\n",
    "data = extract_data(reader, countries)\n",
    "#print(data)\n",
    "\n",
    "\n",
    "# TODO: Compute total cases for each day\n",
    "daily_count = defaultdict(int)\n",
    "for row in data:\n",
    "    daily_count[row['day']] += int(row['cases'])\n",
    "#print(daily_count)\n",
    "\n",
    "# TODO: Create Data, starting from the day where 100 people have been infected\n",
    "\n",
    "x_axis_label = np.array([row['dateRep'] for row in data])\n",
    "print(x_axis_label)\n",
    "y_axis_label = np.array([int(row['cases']) for row in data])\n",
    "print(y_axis_label)\n",
    "\n",
    "# sort the data by date \n",
    "# TODO: hypothetical curve where total cases double every five days\n",
    "\n",
    "# TODO: Plot everything in a log-plot with legend\n",
    "def display_name(country):\n",
    "    return country.replace('_', ' ')\n"
   ]
  },
  {
   "cell_type": "markdown",
   "metadata": {
    "pycharm": {
     "name": "#%% md\n"
    }
   },
   "source": [
    "## 3. Scikit-Learn\n",
    "[Scikit-Learn](https://scikit-learn.org/stable/index.html) is a popular and widely used library which contains numerous algorithms for machine learning and data analysis. Furthermore, it also contains tools for pre-processing data, evaluating models and many other utilities.\n",
    "\n",
    "Installing the library is again as easy as issuing one command to the terminal:"
   ]
  },
  {
   "cell_type": "code",
   "execution_count": null,
   "metadata": {
    "pycharm": {
     "name": "#%%\n"
    }
   },
   "outputs": [],
   "source": [
    "!conda install --yes --prefix {sys.prefix} scikit-learn\n",
    "# !{sys.executable} -m pip install scikit-learn"
   ]
  },
  {
   "cell_type": "markdown",
   "metadata": {
    "pycharm": {
     "name": "#%% md\n"
    }
   },
   "source": [
    "### 3.1 Datasets\n",
    "Any machine learnng algorithm needs some form of input data for training, from which it can recognize patterns and extract knowledge. Usually, several *data points* are collected in experimental or real-world scenarios and merged into a so-called *dataset*. While Scikit-Learn has several utilities for downloading, cleaning and preprocessing such datasets, we are not going use a real-world dataset for the purpose of ths exercise. Instead, we will use the function `make_moons` to generate an artifical, two-dimensional dataset in the following code segment. Play around with the `noise` value to see what the data looks like."
   ]
  },
  {
   "cell_type": "code",
   "execution_count": 5,
   "metadata": {
    "pycharm": {
     "name": "#%%\n"
    },
    "scrolled": true
   },
   "outputs": [
    {
     "data": {
      "image/png": "[encoded data removed]",
      "text/plain": [
       "<Figure size 432x288 with 1 Axes>"
      ]
     },
     "metadata": {
      "needs_background": "light"
     },
     "output_type": "display_data"
    }
   ],
   "source": [
    "from sklearn import datasets\n",
    "from sklearn.model_selection import train_test_split\n",
    "from matplotlib.colors import ListedColormap\n",
    "\n",
    "# Generate toy data (two moons dataset)\n",
    "n = 200\n",
    "X, Y = datasets.make_moons(n, noise=0.2)\n",
    "\n",
    "# Plot the dataset\n",
    "fig = plt.figure()\n",
    "cmap = ListedColormap([[1.0, 0.0, 0.0], [0.0, 0.0, 1.0]])\n",
    "plt.scatter(X[:, 0], X[:, 1], c=Y, cmap=cmap, edgecolor='k')\n",
    "plt.grid(linestyle='dashed')\n",
    "plt.show()\n",
    "plt.close(fig)"
   ]
  },
  {
   "cell_type": "markdown",
   "metadata": {},
   "source": [
    "### 3.2 Classification Fundamentals\n",
    "The goal of the classification task is to find a function $f$ that assigns a class label $y$, which is chosen from $K$ different possibilities, to a data point $x$. Training data for such a task is usually given as several input-output-pairs, i.e., $D = \\{(x_1, y_1), (x_2, y_2), \\ldots, (x_n, y_n)\\}$. For the two moons dataset, we would have $x \\in \\mathbb{R}^2$ and $K=2$ and we chose $n=200$.\n",
    "\n",
    "One cool feature of Scikit-Learn is the unified API that makes it easy to switch between different classification algorithms on the fly. This is possible, since the algorithms are implemented as subclasses of `BaseEstimator` which, among others, offers the following fundamental methods:\n",
    "* `fit(X, Y)`: This method trains a classifier, where `X` is a Numpy array of shape `(n, d)` containing `n` training examples and `Y` is another Numpy array containg the class labels for all `n` samples. The actual implementation differs significantly from algorithm to algorithm.\n",
    "* `predict(X)`: Once the classifier has been trained with a call to `fit`, this method can be used to predict a class label for previously unseen datapoints `X` (which is again a Numpy array of shape `(n*, d)`)\n",
    "\n",
    "The following code snippet uses the *Support-Vector-Machine* algorithm to find a classifier that can distinguish the two classes from the two moons dataset. We use both a linear SVM as well as a RBF-kernel SVM. Don't worry if you have never heard of those terms before, since they will be explained in great detail during the lecture! One great thing about libraries like Scikit-Learn is that you don't need to know how a Support Vector Machine works before you can use it, since the implementation is already available and the library is easily accessible, making it easier for people to get into machine learning. However, if you want to achieve consistently good results, knowledge about the algorithms you are using and a certain amount of experience are needed in order to know which knobs to tweak. So, it still makes sense to attend to lecture (at least digitally) :)\n",
    "\n",
    "For the two-dimensional toy dataset used in this exercise it is also easy to draw the decision surface of the classifier. This means that a point within the blue surface would be classfied as blue by the classifier and a point in the read surface as belonging to the red class. As you can see by playing around, the boundary between the classes is always a line for the linear SVM, whereas it can have any shape for the RBF SVM.\n",
    "\n",
    "There are several ways to evaluate and compare the performance of classifiers, but one easy and often used way is to separate a certain number of randomly chosen points from the given dataset (the *test set*) and use the rest to train the classifier (the *training set*). The percentage of correctly classified points in the test set, called *accuracy*, can then be seen as a measure of the *generalization* performance, i.e., the classifier's ability to transfer learned patterns to a set of similar data that it has never seen before. Scikit-Learn's `train_test_split` function implements exactly this split of data in training and test samples."
   ]
  },
  {
   "cell_type": "code",
   "execution_count": 6,
   "metadata": {
    "pycharm": {
     "name": "#%%\n"
    }
   },
   "outputs": [
    {
     "data": {
      "image/png": "[encoded data removed]",
      "text/plain": [
       "<Figure size 576x288 with 2 Axes>"
      ]
     },
     "metadata": {
      "needs_background": "light"
     },
     "output_type": "display_data"
    }
   ],
   "source": [
    "from sklearn.svm import SVC\n",
    "\n",
    "# Train Classifier on the dataset\n",
    "linear_clf = SVC(kernel='linear', C=0.1)\n",
    "kernel_clf = SVC(kernel='rbf', C=1, gamma=1)\n",
    "\n",
    "X_train, X_test, Y_train, Y_test = train_test_split(X, Y, test_size=0.25)\n",
    "\n",
    "# Plot decision surface\n",
    "# First generate grid\n",
    "res = 200  # Resolution of the grid in cells\n",
    "x_max, y_max = np.max(X, axis=0) + 0.25\n",
    "x_min, y_min = np.min(X, axis=0) - 0.25\n",
    "grid_x, grid_y = np.meshgrid(np.linspace(x_min, x_max, res),\n",
    "                             np.linspace(y_min, y_max, res))\n",
    "# Get test array from grid\n",
    "grid_input = np.c_[grid_x.reshape(-1), grid_y.reshape(-1)]\n",
    "\n",
    "fig, axes = plt.subplots(1, 2, sharex=True, sharey=True, figsize=(8, 4))\n",
    "for clf, ax in zip([linear_clf, kernel_clf], axes.ravel()):\n",
    "    clf.fit(X_train, Y_train)\n",
    "    score = clf.score(X_test, Y_test)\n",
    "    grid_out = clf.predict(grid_input).reshape(grid_x.shape)\n",
    "\n",
    "    ax.set_title('Classifier: %s, Acc.: %.3f' % (str(clf.kernel), score))\n",
    "    ax.contourf(grid_x, grid_y, grid_out, alpha=0.5, cmap=plt.cm.RdBu)\n",
    "    ax.scatter(X[:, 0], X[:, 1], c=Y, cmap=cmap, edgecolor='k')\n",
    "plt.tight_layout()\n",
    "plt.show()\n",
    "plt.close(fig)"
   ]
  },
  {
   "cell_type": "markdown",
   "metadata": {},
   "source": [
    "### Ex. 3.3 Scikit-Learn API\n",
    "1. Consider the following new artificial dataset:"
   ]
  },
  {
   "cell_type": "code",
   "execution_count": 7,
   "metadata": {},
   "outputs": [],
   "source": [
    "new_X = X * np.array([1, 10])\n",
    "new_Y = Y"
   ]
  },
  {
   "cell_type": "markdown",
   "metadata": {},
   "source": [
    "   Try running the algorithms as they are on this dataset and also plot the decision regions (Tip: Modularize my code to make it reusable). What changes? Do you have any idea what could cause problems here?\n",
    "2. One very commonly used technique to preprocess data is to rescale each input feature to have zero mean and unit variance before running a classifier on the data. This behaviour is already implemented by the [`StandardScaler`](https://scikit-learn.org/stable/modules/generated/sklearn.preprocessing.StandardScaler.html) class. Also have a look at the [`Pipeline`](https://scikit-learn.org/stable/modules/generated/sklearn.pipeline.Pipeline.html) class and use this to re-implement the traning procedure with an additinal data-normalization step. Create a new plot that compares the decision surfaces of classifiers trained on normalized data to those trained with non-normalized data.\n",
    "3. The behaviour of both SVMs is influenced by the parameter `C` and the RBF SVM also accepts a paramter `gamma`. Snce those parameters are not learned as part of the algorithm, they are also called *hyperparameter*. Play around with those and see how the decision surface changes.\n",
    "4. (optional) In part 3 you have probably seen that the value of hyperparameters can have a dramatic influence on the performance of the classifier. Tuning them by hand can be a tedious task and it is therefore preferred to automatcally try values from a specified range or even just random values. Check out the [`RandomizedSearchCV`](https://scikit-learn.org/stable/modules/generated/sklearn.model_selection.RandomizedSearchCV.html) class and try to find a good combination of hyperparameter values for the RBF SVM."
   ]
  },
  {
   "cell_type": "code",
   "execution_count": 8,
   "metadata": {
    "pycharm": {
     "name": "#%%\n"
    }
   },
   "outputs": [],
   "source": [
    "from sklearn.preprocessing import StandardScaler\n",
    "from sklearn.pipeline import Pipeline\n",
    "\n"
   ]
  },
  {
   "cell_type": "markdown",
   "metadata": {},
   "source": [
    "### Ex. 3.4 $k$-Nearest Neighbours\n",
    "One of the simplest machine learning algorithms (in fact so simple that you will probably be able to find convincing arguments that it is not a machine learning algorithm at all) is the $k$-nearest neighbours algorithm. Given some training examples $(x_1, y_1), (x_2, y_2), \\ldots, (x_n, y_n)$ and a test point $x^*$, for which we would like to predct a class label, the algorithm works as follows:\n",
    "* **Training**: The training examples $\\{(x_i, y_i\\}_{i=1}^{n}$ are stored.\n",
    "* **Prediction**: The $k$ training points with the least distance to $x^*$ are fetched along with their class labels, i.e.\n",
    "\\begin{equation*}\n",
    "    P_{x^*}^k := \\operatorname{arg\\ min}_{\\{y_{i_1}, \\ldots, y_{i_k}\\}} \\sum_{j=1}^{k} d(x_{i_j}, x^*),\n",
    "\\end{equation*}\n",
    "where $d$ is some distance measure. The class that appears most often in that set is then returned as the class label of $x^*$. In case of a tie, one could, for example, choose a class randomly or according to some other tie-breaker rule.\n",
    "\n",
    "Your tasks are as follows:\n",
    "1. Implement the $k$-nearest neighbours algorithm by filling in the gaps in the skeleton that has already been prepared for you. Use the Euclidean distance and when a tie occurs break it by randomly choosing one of the tied classes.\n",
    "2. Note that the `KNN` class conforms to the API of Scikit-Learn. Compare its performance to the SVM based classifiers from the previous exercise and also explore what happens when you use different values for $k$. How do the decision surfaces for different values of $k$ look like when training on the two moons dataset?\n",
    "3. Can you think of a disadvantage the KNN classifier might have when it is applied to real-world datasets?"
   ]
  },
  {
   "cell_type": "code",
   "execution_count": 41,
   "metadata": {
    "pycharm": {
     "name": "#%%\n"
    }
   },
   "outputs": [
    {
     "name": "stdout",
     "output_type": "stream",
     "text": [
      "[1 1 1 0 1 1 0 0 0 0 1 1 0 0 1 0 0 1 1 0 0 0 0 1 1 0 1 1 1 0 1 0 1 0 1 0 0\n",
      " 0 0 0 0 1 1 0 1 1 0 0 0 0]\n",
      "[[18  6]\n",
      " [10 16]]\n",
      "              precision    recall  f1-score   support\n",
      "\n",
      "           0       0.64      0.75      0.69        24\n",
      "           1       0.73      0.62      0.67        26\n",
      "\n",
      "    accuracy                           0.68        50\n",
      "   macro avg       0.69      0.68      0.68        50\n",
      "weighted avg       0.69      0.68      0.68        50\n",
      "\n"
     ]
    }
   ],
   "source": [
    "import numpy as np \n",
    "from sklearn import datasets\n",
    "from sklearn.model_selection import train_test_split\n",
    "from sklearn.base import BaseEstimator, ClassifierMixin\n",
    "from collections import defaultdict\n",
    "n=200\n",
    "X, Y = datasets.make_moons(n, noise=0.2)\n",
    "X_train, X_test, Y_train, Y_test = train_test_split(X, Y, test_size=0.25)\n",
    "\n",
    "def euclidean_distance(a, b, keepdims=False):\n",
    "    return np.sqrt(np.sum((a-b)**2, axis=-1, keepdims=keepdims))\n",
    "\n",
    "class KNN(BaseEstimator, ClassifierMixin):\n",
    "    def __init__(self, k=5, dist_function=euclidean_distance):\n",
    "        super(KNN, self).__init__()\n",
    "\n",
    "        self.k = k\n",
    "        self.dist_function = dist_function\n",
    "        self.train_points = None\n",
    "\n",
    "    def fit(self, X, y):\n",
    "        # TODO:\n",
    "        self.X = X\n",
    "        self.Y = Y \n",
    "\n",
    "    def predict(self, X):\n",
    "        #TODO:\n",
    "        labels  = [self._classification(x) for x in X]\n",
    "        return np.array(labels)\n",
    "    \n",
    "    def _classification(self, x):\n",
    "        distance_array = [self.dist_function(x, x_i) for x_i in self.X]\n",
    "        #print(distance_array)\n",
    "        sorted_index = np.argsort(distance_array)[:self.k]\n",
    "        y_labels = [self.Y[ind_] for ind_ in sorted_index]\n",
    "        from collections import Counter\n",
    "        predicted_label = Counter(y_labels).most_common(1)\n",
    "        return predicted_label[0][0]\n",
    "        \n",
    "        \n",
    "        #raise NotImplementedError()\n",
    "inst = KNN()\n",
    "inst.fit(X_train, Y_train)\n",
    "predicted_value = inst.predict(X_test)\n",
    "print(predicted_value) \n",
    "\n",
    "from sklearn.metrics import confusion_matrix, classification_report\n",
    "print(confusion_matrix(Y_test, predicted_value))\n",
    "print(classification_report(Y_test, predicted_value))\n"
   ]
  },
  {
   "cell_type": "code",
   "execution_count": 43,
   "metadata": {},
   "outputs": [
    {
     "name": "stdout",
     "output_type": "stream",
     "text": [
      "              precision    recall  f1-score   support\n",
      "\n",
      "           0       0.91      0.88      0.89        24\n",
      "           1       0.89      0.92      0.91        26\n",
      "\n",
      "    accuracy                           0.90        50\n",
      "   macro avg       0.90      0.90      0.90        50\n",
      "weighted avg       0.90      0.90      0.90        50\n",
      "\n",
      "[[21  3]\n",
      " [ 2 24]]\n"
     ]
    },
    {
     "name": "stderr",
     "output_type": "stream",
     "text": [
      "/Users/pawnesh/opt/anaconda3/lib/python3.7/site-packages/sklearn/svm/base.py:193: FutureWarning: The default value of gamma will change from 'auto' to 'scale' in version 0.22 to account better for unscaled features. Set gamma explicitly to 'auto' or 'scale' to avoid this warning.\n",
      "  \"avoid this warning.\", FutureWarning)\n"
     ]
    }
   ],
   "source": [
    "from sklearn.svm import SVC\n",
    "model = SVC()\n",
    "model.fit(X_train, Y_train)\n",
    "predicted_value = model.predict(X_test)\n",
    "print(classification_report(Y_test, predicted_value))\n",
    "print(confusion_matrix(Y_test, predicted_value))\n",
    "\n"
   ]
  },
  {
   "cell_type": "code",
   "execution_count": null,
   "metadata": {},
   "outputs": [],
   "source": []
  }
 ],
 "metadata": {
  "kernelspec": {
   "display_name": "Python 3",
   "language": "python",
   "name": "python3"
  },
  "language_info": {
   "codemirror_mode": {
    "name": "ipython",
    "version": 3
   },
   "file_extension": ".py",
   "mimetype": "text/x-python",
   "name": "python",
   "nbconvert_exporter": "python",
   "pygments_lexer": "ipython3",
   "version": "3.7.4"
  }
 },
 "nbformat": 4,
 "nbformat_minor": 1
}
